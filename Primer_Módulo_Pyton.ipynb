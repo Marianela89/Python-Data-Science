{
  "nbformat": 4,
  "nbformat_minor": 0,
  "metadata": {
    "colab": {
      "provenance": [],
      "authorship_tag": "ABX9TyPgenWTR1Ot+ZNbUgD9OkzC",
      "include_colab_link": true
    },
    "kernelspec": {
      "name": "python3",
      "display_name": "Python 3"
    },
    "language_info": {
      "name": "python"
    }
  },
  "cells": [
    {
      "cell_type": "markdown",
      "metadata": {
        "id": "view-in-github",
        "colab_type": "text"
      },
      "source": [
        "<a href=\"https://colab.research.google.com/github/Marianela89/Python-Data-Science/blob/main/Primer_M%C3%B3dulo_Pyton.ipynb\" target=\"_parent\"><img src=\"https://colab.research.google.com/assets/colab-badge.svg\" alt=\"Open In Colab\"/></a>"
      ]
    },
    {
      "cell_type": "code",
      "execution_count": null,
      "metadata": {
        "colab": {
          "base_uri": "https://localhost:8080/"
        },
        "id": "q3CQ8huIO-Co",
        "outputId": "08eb22f4-42e1-4261-f609-c7b69cc25ede"
      },
      "outputs": [
        {
          "output_type": "execute_result",
          "data": {
            "text/plain": [
              "2"
            ]
          },
          "metadata": {},
          "execution_count": 5
        }
      ],
      "source": [
        "1+1"
      ]
    },
    {
      "cell_type": "code",
      "source": [],
      "metadata": {
        "id": "NKHkAx39PfRX"
      },
      "execution_count": null,
      "outputs": []
    },
    {
      "cell_type": "code",
      "source": [
        "nombre = 'marianela'"
      ],
      "metadata": {
        "id": "84LAKhWxPH_w"
      },
      "execution_count": null,
      "outputs": []
    },
    {
      "cell_type": "code",
      "source": [
        "nombre"
      ],
      "metadata": {
        "colab": {
          "base_uri": "https://localhost:8080/",
          "height": 35
        },
        "id": "gmqvOR4YPu0Q",
        "outputId": "9ee23571-b031-4740-ad93-e1d12b883b2c"
      },
      "execution_count": null,
      "outputs": [
        {
          "output_type": "execute_result",
          "data": {
            "text/plain": [
              "'marianela'"
            ],
            "application/vnd.google.colaboratory.intrinsic+json": {
              "type": "string"
            }
          },
          "metadata": {},
          "execution_count": 8
        }
      ]
    },
    {
      "cell_type": "markdown",
      "source": [
        "# **DEFINIR UNA FUNCION **"
      ],
      "metadata": {
        "id": "DbOP2rzfXu6D"
      }
    },
    {
      "cell_type": "code",
      "source": [
        "def Saludar():\n",
        " nombre = input ('Digite su nombre: ')\n",
        " print (f'Hola {nombre} sea bienvenido!')"
      ],
      "metadata": {
        "id": "cGnAWjGXX95G"
      },
      "execution_count": null,
      "outputs": []
    },
    {
      "cell_type": "code",
      "source": [
        "Saludar()"
      ],
      "metadata": {
        "colab": {
          "base_uri": "https://localhost:8080/"
        },
        "id": "wdRBn1N3aj6k",
        "outputId": "b90a800d-90c7-41bf-9321-ace5f1e28a19"
      },
      "execution_count": null,
      "outputs": [
        {
          "output_type": "stream",
          "name": "stdout",
          "text": [
            "Digite su nombre: Marianela\n",
            "Hola Marianela sea bienvenido!\n"
          ]
        }
      ]
    },
    {
      "cell_type": "markdown",
      "source": [
        "#DEFINIR PARAMETROS#\n"
      ],
      "metadata": {
        "id": "k8VdMCceiD6d"
      }
    },
    {
      "cell_type": "code",
      "source": [
        "name = 'Andrea'"
      ],
      "metadata": {
        "id": "C6tIC6m1iMtC"
      },
      "execution_count": null,
      "outputs": []
    },
    {
      "cell_type": "code",
      "source": [
        "def saludar_con_parametros(name):\n",
        "  print (f'Hola {name} sea bienvenido!')"
      ],
      "metadata": {
        "id": "GwiGjkAmiVhj"
      },
      "execution_count": null,
      "outputs": []
    },
    {
      "cell_type": "code",
      "source": [
        "saludar_con_parametros(name)"
      ],
      "metadata": {
        "colab": {
          "base_uri": "https://localhost:8080/"
        },
        "id": "WuuYEm_kj7KU",
        "outputId": "81b1505b-c763-40f4-da96-2593ba99cb19"
      },
      "execution_count": null,
      "outputs": [
        {
          "output_type": "stream",
          "name": "stdout",
          "text": [
            "Hola Andrea sea bienvenido!\n"
          ]
        }
      ]
    },
    {
      "cell_type": "markdown",
      "source": [
        "#CONDICIONALES#\n"
      ],
      "metadata": {
        "id": "VLcRHYI9KjVg"
      }
    },
    {
      "cell_type": "code",
      "source": [
        "edad = 16"
      ],
      "metadata": {
        "id": "O_3JP51iKv_V"
      },
      "execution_count": null,
      "outputs": []
    },
    {
      "cell_type": "code",
      "source": [
        "def verificar_si_puede_conducir(edad):\n",
        "  if edad >= 18:\n",
        "    print (\"Tiene edad para conducir\")\n",
        "  else:\n",
        "    print (\"No tiene edad para conducir\") "
      ],
      "metadata": {
        "id": "9hrBVK7bK0-J"
      },
      "execution_count": null,
      "outputs": []
    },
    {
      "cell_type": "code",
      "source": [
        "verificar_si_puede_conducir(edad)"
      ],
      "metadata": {
        "colab": {
          "base_uri": "https://localhost:8080/"
        },
        "id": "C-NQlB5mLRzH",
        "outputId": "9be6e978-7a0d-402f-88a5-b84c3448576a"
      },
      "execution_count": null,
      "outputs": [
        {
          "output_type": "stream",
          "name": "stdout",
          "text": [
            "No tiene edad para conducir\n"
          ]
        }
      ]
    },
    {
      "cell_type": "markdown",
      "source": [
        "#CONVERSION DE DATOS#"
      ],
      "metadata": {
        "id": "G1CAL4BSQIw7"
      }
    },
    {
      "cell_type": "code",
      "source": [
        "def verificar_si_puede_conducir_sin_parametro():\n",
        "  edad = input ('Digite su edad ')\n",
        "  edad = int(edad)\n",
        "  if edad>=18:\n",
        "    print (\"Usted puede conducir\")\n",
        "  else:\n",
        "    print (\"Usted no puede conducir\") \n",
        "\n",
        "    \n",
        "    "
      ],
      "metadata": {
        "id": "JUoE-a-aQYI5"
      },
      "execution_count": null,
      "outputs": []
    },
    {
      "cell_type": "code",
      "source": [
        "verificar_si_puede_conducir_sin_parametro()"
      ],
      "metadata": {
        "colab": {
          "base_uri": "https://localhost:8080/"
        },
        "id": "fjnHEvitRTlW",
        "outputId": "200b4d66-53a6-4ca8-e37f-779a45c2d5da"
      },
      "execution_count": null,
      "outputs": [
        {
          "output_type": "stream",
          "name": "stdout",
          "text": [
            "Digite su edad 10\n",
            "Usted no puede conducir\n"
          ]
        }
      ]
    },
    {
      "cell_type": "markdown",
      "source": [
        "#BUCLES Y CICLOS#"
      ],
      "metadata": {
        "id": "GkTz-2_osD_c"
      }
    },
    {
      "cell_type": "markdown",
      "source": [
        "**bucle fuera de la funcion**"
      ],
      "metadata": {
        "id": "rtajnMuiuwXj"
      }
    },
    {
      "cell_type": "code",
      "source": [
        "edades = [18,15,12,45,50]\n",
        "\n"
      ],
      "metadata": {
        "id": "2PEuiXlrsLh_"
      },
      "execution_count": null,
      "outputs": []
    },
    {
      "cell_type": "code",
      "source": [
        "def verificar_si_puede_conducir(edad):\n",
        "  if edad >= 18:\n",
        "    print (\"Tiene edad para conducir\")\n",
        "  else:\n",
        "    print (\"No tiene edad para conducir\") \n",
        "\n",
        "\n",
        "for edad in edades:\n",
        "  verificar_si_puede_conducir(edad)    "
      ],
      "metadata": {
        "colab": {
          "base_uri": "https://localhost:8080/"
        },
        "outputId": "13ccfc16-8384-4bd1-a722-6e1c2991c01a",
        "id": "r1XRQFJjwRUg"
      },
      "execution_count": null,
      "outputs": [
        {
          "output_type": "stream",
          "name": "stdout",
          "text": [
            "Tiene edad para conducir\n",
            "No tiene edad para conducir\n",
            "No tiene edad para conducir\n",
            "Tiene edad para conducir\n",
            "Tiene edad para conducir\n"
          ]
        }
      ]
    },
    {
      "cell_type": "markdown",
      "source": [
        "**bucle dentro de la funcion**"
      ],
      "metadata": {
        "id": "paQl7aFlwaz1"
      }
    },
    {
      "cell_type": "code",
      "source": [
        "edades = [18,15,12,45,50]"
      ],
      "metadata": {
        "id": "DiJ5SfIjwgI1"
      },
      "execution_count": null,
      "outputs": []
    },
    {
      "cell_type": "code",
      "source": [
        "def verificar_si_puede_conducir_con_bucle(edades):\n",
        " for edad in edades:\n",
        "  if edad >= 18:\n",
        "    print (\"Tiene edad para conducir\")\n",
        "  else:\n",
        "    print (\"No tiene edad para conducir\") \n",
        "\n",
        "\n",
        "verificar_si_puede_conducir_con_bucle(edades)    "
      ],
      "metadata": {
        "colab": {
          "base_uri": "https://localhost:8080/"
        },
        "id": "vyKe4PDPtkcX",
        "outputId": "559f78d1-6120-475c-93f2-68c8adc96882"
      },
      "execution_count": null,
      "outputs": [
        {
          "output_type": "stream",
          "name": "stdout",
          "text": [
            "Tiene edad para conducir\n",
            "No tiene edad para conducir\n",
            "No tiene edad para conducir\n",
            "Tiene edad para conducir\n",
            "Tiene edad para conducir\n"
          ]
        }
      ]
    },
    {
      "cell_type": "markdown",
      "source": [
        "#BOOLEANOS#"
      ],
      "metadata": {
        "id": "29l2gYyF0pRW"
      }
    },
    {
      "cell_type": "code",
      "source": [
        "verificaciones = []\n",
        "edades = [13,15,20]\n",
        "\n",
        "def verificar_si_puede_conducir_bool(verificaciones,edades):\n",
        "  for edad in edades:\n",
        "    if edad>=18:\n",
        "      verificaciones.append(True)\n",
        "    else:\n",
        "      verificaciones.append(False)\n",
        "  for verificacion in verificaciones:\n",
        "    if verificacion == True:\n",
        "       print (\"Tiene edad para conducir\")\n",
        "    else:\n",
        "       print (\"No tiene edad para conducir\")\n",
        "\n",
        "verificar_si_puede_conducir_bool(verificaciones,edades)                "
      ],
      "metadata": {
        "colab": {
          "base_uri": "https://localhost:8080/"
        },
        "id": "RtTR87LV0yi5",
        "outputId": "795452b1-e4b5-43f2-8ec9-c1fcc73b3a2f"
      },
      "execution_count": null,
      "outputs": [
        {
          "output_type": "stream",
          "name": "stdout",
          "text": [
            "No tiene edad para conducir\n",
            "No tiene edad para conducir\n",
            "Tiene edad para conducir\n"
          ]
        }
      ]
    },
    {
      "cell_type": "markdown",
      "source": [
        "#LISTAS CON DIFERENTES DATOS#"
      ],
      "metadata": {
        "id": "t9TgQFf33yMj"
      }
    },
    {
      "cell_type": "code",
      "source": [
        "lista_mixta=['Mariana',25,True,'Mexico']"
      ],
      "metadata": {
        "id": "YcUzEVN333P8"
      },
      "execution_count": null,
      "outputs": []
    },
    {
      "cell_type": "code",
      "source": [
        "for elemento in lista_mixta:\n",
        "  print(f'El elemento {elemento} de la lista es del tipo', type(elemento))"
      ],
      "metadata": {
        "colab": {
          "base_uri": "https://localhost:8080/"
        },
        "id": "UoF0h3bT4KNh",
        "outputId": "9b36326c-1a23-4429-c994-946682824f34"
      },
      "execution_count": null,
      "outputs": [
        {
          "output_type": "stream",
          "name": "stdout",
          "text": [
            "El elemento Mariana de la lista es del tipo <class 'str'>\n",
            "El elemento 25 de la lista es del tipo <class 'int'>\n",
            "El elemento True de la lista es del tipo <class 'bool'>\n",
            "El elemento Mexico de la lista es del tipo <class 'str'>\n"
          ]
        }
      ]
    },
    {
      "cell_type": "code",
      "source": [],
      "metadata": {
        "id": "hMhVHP4z4xq0"
      },
      "execution_count": null,
      "outputs": []
    },
    {
      "cell_type": "markdown",
      "source": [
        "#IMPORTAR UNA LIBRERIA#"
      ],
      "metadata": {
        "id": "W4exFwz9yz-L"
      }
    },
    {
      "cell_type": "code",
      "source": [
        "from random import randrange, seed"
      ],
      "metadata": {
        "id": "agcuNqiwy7Gz"
      },
      "execution_count": 6,
      "outputs": []
    },
    {
      "cell_type": "code",
      "source": [
        "randrange(0,11)"
      ],
      "metadata": {
        "colab": {
          "base_uri": "https://localhost:8080/",
          "height": 0
        },
        "id": "d_AHxyxd0Lr0",
        "outputId": "9ddfc718-2835-41c9-c259-7cb3d29dc5d7"
      },
      "execution_count": 7,
      "outputs": [
        {
          "output_type": "execute_result",
          "data": {
            "text/plain": [
              "9"
            ]
          },
          "metadata": {},
          "execution_count": 7
        }
      ]
    },
    {
      "cell_type": "markdown",
      "source": [
        "#LISTA CON NUMEROS ALEATORIOS#"
      ],
      "metadata": {
        "id": "PnLKr6LD11z0"
      }
    },
    {
      "cell_type": "code",
      "source": [
        "notas_matematicas = []\n",
        "for notas in range(6):\n",
        "  notas_matematicas.append(randrange(0,11))\n",
        "notas_matematicas"
      ],
      "metadata": {
        "colab": {
          "base_uri": "https://localhost:8080/",
          "height": 0
        },
        "id": "pkyx_rhS160U",
        "outputId": "57b79c32-58d5-4aa1-aea7-39304a5bf0da"
      },
      "execution_count": 8,
      "outputs": [
        {
          "output_type": "execute_result",
          "data": {
            "text/plain": [
              "[8, 1, 10, 5, 6, 2]"
            ]
          },
          "metadata": {},
          "execution_count": 8
        }
      ]
    },
    {
      "cell_type": "code",
      "source": [],
      "metadata": {
        "id": "xDNF3HHp4ENv"
      },
      "execution_count": null,
      "outputs": []
    },
    {
      "cell_type": "code",
      "source": [
        "notas_matematicas = []\n",
        "seed(8)\n",
        "for notas in range(6):\n",
        "   notas_matematicas.append(randrange(0,11))\n",
        "notas_matematicas"
      ],
      "metadata": {
        "colab": {
          "base_uri": "https://localhost:8080/",
          "height": 0
        },
        "outputId": "d722bdf0-bdc3-4b46-ced3-b1f97dd487ec",
        "id": "hDlIN7LC4HZw"
      },
      "execution_count": 9,
      "outputs": [
        {
          "output_type": "execute_result",
          "data": {
            "text/plain": [
              "[3, 5, 6, 2, 3, 0]"
            ]
          },
          "metadata": {},
          "execution_count": 9
        }
      ]
    },
    {
      "cell_type": "code",
      "source": [
        "len(notas_matematicas)"
      ],
      "metadata": {
        "colab": {
          "base_uri": "https://localhost:8080/",
          "height": 0
        },
        "id": "zT6euAPu4V7u",
        "outputId": "bc7ee841-ce4a-414c-a708-487f4e250598"
      },
      "execution_count": 10,
      "outputs": [
        {
          "output_type": "execute_result",
          "data": {
            "text/plain": [
              "6"
            ]
          },
          "metadata": {},
          "execution_count": 10
        }
      ]
    },
    {
      "cell_type": "markdown",
      "source": [
        "#CREANDO UN GRAFICO#"
      ],
      "metadata": {
        "id": "SvLFNKFU58tH"
      }
    },
    {
      "cell_type": "code",
      "source": [
        "import matplotlib.pyplot as plt\n",
        "\n"
      ],
      "metadata": {
        "id": "FRnnEyx55_1S"
      },
      "execution_count": 11,
      "outputs": []
    },
    {
      "cell_type": "code",
      "source": [
        "list (range(1,7))"
      ],
      "metadata": {
        "colab": {
          "base_uri": "https://localhost:8080/",
          "height": 0
        },
        "id": "KnUGadGo74BT",
        "outputId": "04f4887d-d40c-4de7-bcaa-a208061ac7af"
      },
      "execution_count": 12,
      "outputs": [
        {
          "output_type": "execute_result",
          "data": {
            "text/plain": [
              "[1, 2, 3, 4, 5, 6]"
            ]
          },
          "metadata": {},
          "execution_count": 12
        }
      ]
    },
    {
      "cell_type": "code",
      "source": [
        "x=list(range(1,7))\n",
        "y=notas_matematicas\n",
        "\n",
        "\n",
        "plt.plot(x,y,marker='o')\n",
        "plt.title('Gráfico para las notas de matemáticas')\n",
        "plt.xlabel('Pruebas')\n",
        "plt.ylabel('Notas')\n",
        "plt.show()"
      ],
      "metadata": {
        "colab": {
          "base_uri": "https://localhost:8080/",
          "height": 295
        },
        "id": "0y4CklJh8BWb",
        "outputId": "4a5de43b-55cc-4d6e-821e-8299761c3c5e"
      },
      "execution_count": 17,
      "outputs": [
        {
          "output_type": "display_data",
          "data": {
            "text/plain": [
              "<Figure size 432x288 with 1 Axes>"
            ],
            "image/png": "[encoded data removed]"
          },
          "metadata": {
            "needs_background": "light"
          }
        }
      ]
    }
  ]
}